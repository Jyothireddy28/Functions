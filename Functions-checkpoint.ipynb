{
 "cells": [
  {
   "cell_type": "code",
   "execution_count": 1,
   "id": "b4488440-aa8f-461f-8c8b-e69dd987a68d",
   "metadata": {},
   "outputs": [
    {
     "name": "stdout",
     "output_type": "stream",
     "text": [
      "- - - - - - - - \n",
      "Welcome\n",
      "- - - - - - - - "
     ]
    }
   ],
   "source": [
    "def line():\n",
    "    for i in range(8):\n",
    "\t    print(\"-\",end=\" \")\n",
    "line()\n",
    "print(\"\\nWelcome\")\n",
    "line()"
   ]
  },
  {
   "cell_type": "code",
   "execution_count": 3,
   "id": "6f62fa4f-1775-455e-b653-73d66caf0186",
   "metadata": {},
   "outputs": [
    {
     "name": "stdin",
     "output_type": "stream",
     "text": [
      "value for n1 4\n",
      "value for n2 6\n"
     ]
    },
    {
     "name": "stdout",
     "output_type": "stream",
     "text": [
      "4 is not prime\n",
      "6 is not prime\n"
     ]
    }
   ],
   "source": [
    "def prime(n):\n",
    "   fc=0\n",
    "   for f in range(1,n+1):\n",
    "       if n%f==0:\n",
    "\t       fc=fc+1\n",
    "   if fc==2:\n",
    "\t   print(n,\"is prime\")\n",
    "   else:\n",
    "\t   print(n,\"is not prime\")\n",
    "      \n",
    "      \n",
    "n1=int(input(\"value for n1\"))\n",
    "n2=int(input(\"value for n2\"))\n",
    "prime(n1)\n",
    "prime(n2)\n"
   ]
  },
  {
   "cell_type": "code",
   "execution_count": 3,
   "id": "f95b0845-f678-4273-a8d2-d6b9c8f0b3f5",
   "metadata": {},
   "outputs": [],
   "source": [
    "def set(n):\n",
    "   n1=int(input(\"value for n1\"))\n",
    "   n2=int(input(\"value for n2\"))\n",
    "   n3=int(input(\"value for n3\"))\n",
    "   n4=int(input(\"value for n4\"))\n",
    "   s1={n1+n2}\n",
    "   s2={n3+n4}\n",
    "   a=set(s1)\n",
    "   b=set(s2)\n",
    "   if a>b:\n",
    "      print(n1,n2,\"is biggest set\")\n",
    "   else:\n",
    "      print(n3,n4,\"is biggest set\")"
   ]
  },
  {
   "cell_type": "code",
   "execution_count": 4,
   "id": "bd525719-2782-42d1-a7ee-d2026184e395",
   "metadata": {},
   "outputs": [
    {
     "name": "stdin",
     "output_type": "stream",
     "text": [
      "value for n1 1\n",
      "value for n2 2\n",
      "value for n3 3\n",
      "value for n4 4\n"
     ]
    },
    {
     "name": "stdout",
     "output_type": "stream",
     "text": [
      "7 is biggest\n"
     ]
    }
   ],
   "source": [
    "def bigsum(x,y):\n",
    "    return x+y\n",
    "n1=int(input(\"value for n1\"))\n",
    "n2=int(input(\"value for n2\"))\n",
    "n3=int(input(\"value for n3\"))\n",
    "n4=int(input(\"value for n4\"))\n",
    "b1=bigsum(n1,n2)\n",
    "b2=bigsum(n3,n4)\n",
    "if b1>b2:\n",
    "    print(b1,\"is biggest \")\n",
    "else:\n",
    "    print(b2,\"is biggest\")"
   ]
  },
  {
   "cell_type": "code",
   "execution_count": 1,
   "id": "cab7274b-217f-4e6f-a692-62cdbe1c5e43",
   "metadata": {},
   "outputs": [
    {
     "name": "stdin",
     "output_type": "stream",
     "text": [
      "value for n1 7\n",
      "value for n2 2\n"
     ]
    },
    {
     "name": "stdout",
     "output_type": "stream",
     "text": [
      "7 is prime\n",
      "2 is prime\n"
     ]
    }
   ],
   "source": [
    "def prime(n):\n",
    "   fc=0\n",
    "   for f in range(1,n+1):\n",
    "       if n%f==0:\n",
    "\t       fc=fc+1\n",
    "   if fc==2:\n",
    "\t   print(n,\"is prime\")\n",
    "   else:\n",
    "\t   print(n,\"is not prime\")\n",
    "      \n",
    "      \n",
    "n1=int(input(\"value for n1\"))\n",
    "n2=int(input(\"value for n2\"))\n",
    "prime(n1)\n",
    "prime(n2)\n"
   ]
  },
  {
   "cell_type": "code",
   "execution_count": 1,
   "id": "b483151d-8c00-4c19-bb92-79aac7c92234",
   "metadata": {},
   "outputs": [
    {
     "name": "stdin",
     "output_type": "stream",
     "text": [
      "value for n1 1234\n",
      "value for n2 5678\n"
     ]
    },
    {
     "name": "stdout",
     "output_type": "stream",
     "text": [
      "8765 is biggest\n"
     ]
    }
   ],
   "source": [
    "def reverse(n):\n",
    "    rn=0\n",
    "    while n>0:\n",
    "        rem=n%10\n",
    "        rn=rn*10+rem\n",
    "        n=n//10\n",
    "    return rn\n",
    "n1=int(input(\"value for n1\"))\n",
    "n2=int(input(\"value for n2\"))\n",
    "r1=reverse(n1)\n",
    "r2=reverse(n2)\n",
    "if r1>r2:\n",
    "    print(r1,\"is biggest\")\n",
    "else:\n",
    "    print(r2,\"is biggest\")\n",
    "\n"
   ]
  },
  {
   "cell_type": "code",
   "execution_count": 2,
   "id": "522aa3f3-de4d-492e-8625-efd71f89d507",
   "metadata": {},
   "outputs": [
    {
     "name": "stdin",
     "output_type": "stream",
     "text": [
      "value for n1 1624\n",
      "value for n2 1634\n"
     ]
    },
    {
     "name": "stdout",
     "output_type": "stream",
     "text": [
      "1634 is biggest\n",
      "1634 is armstrong\n",
      "1634 is smallest\n"
     ]
    }
   ],
   "source": [
    "#armst\n",
    "def armstrongnum(n):\n",
    "    dc=0\n",
    "    sum=0\n",
    "    temp=n\n",
    "    while temp>0:\n",
    "          dc=dc+1\n",
    "          temp=temp//10\n",
    "    temp=n\n",
    "    while temp>0:\n",
    "       rem=temp%10\n",
    "       sum=sum+rem**dc\n",
    "       temp=temp//10\n",
    "    if sum==n:\n",
    "       return 1\n",
    "    else:\n",
    "       return 0\n",
    "n1=int(input(\"value for n1\"))\n",
    "n2=int(input(\"value for n2\"))\n",
    "a=armstrongnum(n1)\n",
    "b=armstrongnum(n2)\n",
    "if a==1 and b==1: \n",
    "    print(n1,\"is biggest\")\n",
    "    print(n1,\"is armstrong\")\n",
    "else:\n",
    "    print(n2,\"is biggest\") \n",
    "    print(n2,\"is armstrong\") \n",
    "if a==0 and b==0:\n",
    "   print(n1,\"is smallest\")\n",
    "else:\n",
    "   print(n2,\"is smallest\")"
   ]
  },
  {
   "cell_type": "code",
   "execution_count": 3,
   "id": "a601bb88-3aff-47bb-83df-975ad58f06b3",
   "metadata": {},
   "outputs": [
    {
     "name": "stdin",
     "output_type": "stream",
     "text": [
      "starting number 1\n",
      "starting number 51\n",
      "starting number 1\n",
      "starting number 2\n"
     ]
    },
    {
     "name": "stdout",
     "output_type": "stream",
     "text": [
      "1 51 contains more numbers\n"
     ]
    }
   ],
   "source": [
    "def primerange(s,e):\n",
    "    c=0\n",
    "  \n",
    "    for n in range(s,e+1):\n",
    "        fc=0\n",
    "        for f in range(1,n+1):\n",
    "            if n%f==0:\n",
    "                fc=fc+1\n",
    "        if fc==2:\n",
    "             c=c+1\n",
    "    return c\n",
    "a=int(input(\"starting number\"))\n",
    "b=int(input(\"starting number\"))\n",
    "c=int(input(\"starting number\"))\n",
    "d=int(input(\"starting number\"))\n",
    "n1=primerange(a,b)\n",
    "n2=primerange(c,d)\n",
    "if n1>n2:\n",
    "\n",
    "   print(a,b,\"contains more numbers\")\n",
    "else:\n",
    "   print(c,d,\"contains more numbers\")\n"
   ]
  },
  {
   "cell_type": "code",
   "execution_count": 2,
   "id": "0857a6e1-df18-44c0-92f4-30624e11463e",
   "metadata": {},
   "outputs": [
    {
     "name": "stdin",
     "output_type": "stream",
     "text": [
      "enter a first number 3\n",
      "enter a second number 5\n"
     ]
    },
    {
     "name": "stdout",
     "output_type": "stream",
     "text": [
      "3 5 are twin prime\n"
     ]
    }
   ],
   "source": [
    "def prime(n1):\n",
    "    fc=0\n",
    "    for f in range(1,n1+1):\n",
    "        if n1%f==0:\n",
    "           fc=fc+1\n",
    "    if fc==2:\n",
    "       return 1\n",
    "s=int(input(\"enter a first number\"))\n",
    "e=int(input(\"enter a second number\"))\n",
    "a=0\n",
    "b=0\n",
    "if s-e==2 or e-s==2:\n",
    "   a=prime(s)\n",
    "   b=prime(e)\n",
    "if a==1 and b==1:\n",
    "   print(s,e,\"are twin prime\")\n",
    "else:\n",
    "   print(s,e,\"are not prime\")"
   ]
  },
  {
   "cell_type": "markdown",
   "id": "f4481cb3-cf69-428a-8079-b439edfdf350",
   "metadata": {},
   "source": [
    "# lambda functions\n"
   ]
  },
  {
   "cell_type": "code",
   "execution_count": 4,
   "id": "5cb30822-b551-4a3b-a53d-d319c8c06486",
   "metadata": {},
   "outputs": [
    {
     "name": "stdout",
     "output_type": "stream",
     "text": [
      "15\n"
     ]
    }
   ],
   "source": [
    "x=lambda n1:n1+10\n",
    "print(x(5))"
   ]
  },
  {
   "cell_type": "code",
   "execution_count": 7,
   "id": "2b9543fb-73bd-4dfa-bb2f-a498211919a3",
   "metadata": {},
   "outputs": [
    {
     "name": "stdout",
     "output_type": "stream",
     "text": [
      "30\n"
     ]
    }
   ],
   "source": [
    "y=lambda n1,n2:n1+n2\n",
    "print(y(10,20))"
   ]
  },
  {
   "cell_type": "code",
   "execution_count": 8,
   "id": "91a59509-146d-423f-8479-3d00d3827f2c",
   "metadata": {},
   "outputs": [
    {
     "name": "stdout",
     "output_type": "stream",
     "text": [
      "6\n"
     ]
    }
   ],
   "source": [
    "n=lambda n1,n2:n1*n2\n",
    "print(n(2,3))"
   ]
  },
  {
   "cell_type": "code",
   "execution_count": 9,
   "id": "6b809317-88dc-4da1-a229-a17f24413909",
   "metadata": {},
   "outputs": [
    {
     "name": "stdout",
     "output_type": "stream",
     "text": [
      "-10\n"
     ]
    }
   ],
   "source": [
    "y=lambda n1,n2:n1-n2\n",
    "print(y(10,20))"
   ]
  },
  {
   "cell_type": "code",
   "execution_count": 10,
   "id": "1ab68cf7-0e80-44a5-a113-be3199cb38b8",
   "metadata": {},
   "outputs": [
    {
     "name": "stdout",
     "output_type": "stream",
     "text": [
      "2.0\n"
     ]
    }
   ],
   "source": [
    "y=lambda n1,n2:n1/n2\n",
    "print(y(20,10))"
   ]
  },
  {
   "cell_type": "code",
   "execution_count": 11,
   "id": "16030f92-ce25-41ac-b962-3ae10c582f4f",
   "metadata": {},
   "outputs": [
    {
     "name": "stdout",
     "output_type": "stream",
     "text": [
      "35\n"
     ]
    }
   ],
   "source": [
    "y=lambda n1,n2,n3:n1+n2+n3\n",
    "print(y(10,20,5))"
   ]
  },
  {
   "cell_type": "code",
   "execution_count": 12,
   "id": "5c2e49ae-2d5c-4844-bf81-4ee01c3efa52",
   "metadata": {},
   "outputs": [
    {
     "name": "stdout",
     "output_type": "stream",
     "text": [
      "100\n"
     ]
    }
   ],
   "source": [
    "y=lambda n1:n1**2\n",
    "print(y(10))"
   ]
  },
  {
   "cell_type": "code",
   "execution_count": 16,
   "id": "b268f9d7-b1d5-4104-af08-10343eca61eb",
   "metadata": {},
   "outputs": [
    {
     "name": "stdout",
     "output_type": "stream",
     "text": [
      "400\n"
     ]
    }
   ],
   "source": [
    "z=lambda n1:n1**2\n",
    "print(y(20))"
   ]
  },
  {
   "cell_type": "code",
   "execution_count": 1,
   "id": "9f4b23f5-e83d-473e-9088-2ef2eed5cf43",
   "metadata": {},
   "outputs": [
    {
     "name": "stdin",
     "output_type": "stream",
     "text": [
      "value for n1 1\n",
      "value for n2 2\n"
     ]
    },
    {
     "name": "stdout",
     "output_type": "stream",
     "text": [
      "0\n",
      "3\n",
      "10\n"
     ]
    }
   ],
   "source": [
    "try:\n",
    " n1=int(input(\"value for n1\"))\n",
    " n2=int(input(\"value for n2\"))\n",
    " print(n1//n2)\n",
    "except ZeroDivisionError:\n",
    "   print(\"second value must be greater than zero\")\n",
    "except ValueError:\n",
    "   print(\"both the values must be integers\")\n",
    "else:\n",
    "   print(n1+n2)\n",
    "finally:\n",
    "   print(n1*10)"
   ]
  },
  {
   "cell_type": "code",
   "execution_count": 4,
   "id": "16b407d8-49d3-46b4-b1ab-566ae21e6ff7",
   "metadata": {},
   "outputs": [
    {
     "name": "stdout",
     "output_type": "stream",
     "text": [
      "variable is not declared\n",
      "this is first exception\n"
     ]
    }
   ],
   "source": [
    "try:\n",
    "    print(x)\n",
    "except NameError:\n",
    "       print(\"variable is not declared\")\n",
    "print(\"this is first exception\")"
   ]
  },
  {
   "cell_type": "code",
   "execution_count": 5,
   "id": "5b95920d-ee44-4fd1-869c-9410b1e713eb",
   "metadata": {},
   "outputs": [
    {
     "name": "stdout",
     "output_type": "stream",
     "text": [
      "ramya and divya are playing tennis\n"
     ]
    }
   ],
   "source": [
    "f=open(r\"E:\\pythonprogs\\samplefile1.txt\")\n",
    "print(f.read())"
   ]
  },
  {
   "cell_type": "code",
   "execution_count": 6,
   "id": "cee67fd4-e38b-437e-8e3f-2b988bc32b3d",
   "metadata": {},
   "outputs": [
    {
     "name": "stdout",
     "output_type": "stream",
     "text": [
      "sita and ramya are playing tennis\n"
     ]
    }
   ],
   "source": [
    "f=open(r\"E:\\pythonprogs\\samplefile2.txt\")\n",
    "print(f.read())"
   ]
  },
  {
   "cell_type": "code",
   "execution_count": null,
   "id": "e8ea01aa-a7e6-4dc4-8059-03f3a0ba07c9",
   "metadata": {},
   "outputs": [],
   "source": [
    "import json\n",
    "j=open(\"E:\\\\pythonprogs\\\\jsonfile.txt\")\n",
    "jsondata=json.load(j)\n",
    "for name in jsondata:\n",
    "    print(name)\n",
    "    print(\"Price:\",jsondata[name][\"Price\"])\n",
    "    print(\"Quantity:\",jsondata[name][\"Quantity\"])"
   ]
  }
 ],
 "metadata": {
  "kernelspec": {
   "display_name": "Python 3 (ipykernel)",
   "language": "python",
   "name": "python3"
  },
  "language_info": {
   "codemirror_mode": {
    "name": "ipython",
    "version": 3
   },
   "file_extension": ".py",
   "mimetype": "text/x-python",
   "name": "python",
   "nbconvert_exporter": "python",
   "pygments_lexer": "ipython3",
   "version": "3.12.7"
  }
 },
 "nbformat": 4,
 "nbformat_minor": 5
}
